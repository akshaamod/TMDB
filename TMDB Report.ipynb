{
 "cells": [
  {
   "cell_type": "markdown",
   "id": "afe1371b-9e19-431e-a2eb-44bed921c19b",
   "metadata": {},
   "source": [
    "# <div align=\"center\"><span style=\"color:#0E6BA8; font-family: 'Bebas Neue'; font-size: 4em;\">TMDB</span> "
   ]
  },
  {
   "cell_type": "markdown",
   "id": "d47179f3-1ee1-406d-9d6c-cd5be203cd52",
   "metadata": {
    "tags": []
   },
   "source": [
    "### **1** Importing and Cleaning the Data"
   ]
  },
  {
   "cell_type": "code",
   "execution_count": 3,
   "id": "8db99fd3-23ba-4675-8084-4c3b10583fa3",
   "metadata": {},
   "outputs": [],
   "source": [
    "import pandas as pd\n",
    "import numpy as np\n",
    "import seaborn as sns\n",
    "import matplotlib.pyplot as plt"
   ]
  },
  {
   "cell_type": "code",
   "execution_count": 4,
   "id": "a75d9e7b-430c-4f39-8b1b-fe3eb4294a3a",
   "metadata": {},
   "outputs": [],
   "source": [
    "path=\"TMDB_movies.csv\"\n",
    "df=pd.read_csv(path)"
   ]
  },
  {
   "cell_type": "code",
   "execution_count": 136,
   "id": "a2e215cb-ad32-4b9f-8c76-0a0274fc2215",
   "metadata": {},
   "outputs": [
    {
     "data": {
      "text/html": [
       "<div>\n",
       "<style scoped>\n",
       "    .dataframe tbody tr th:only-of-type {\n",
       "        vertical-align: middle;\n",
       "    }\n",
       "\n",
       "    .dataframe tbody tr th {\n",
       "        vertical-align: top;\n",
       "    }\n",
       "\n",
       "    .dataframe thead th {\n",
       "        text-align: right;\n",
       "    }\n",
       "</style>\n",
       "<table border=\"1\" class=\"dataframe\">\n",
       "  <thead>\n",
       "    <tr style=\"text-align: right;\">\n",
       "      <th></th>\n",
       "      <th>budget</th>\n",
       "      <th>genre_ids</th>\n",
       "      <th>genre_names</th>\n",
       "      <th>genres</th>\n",
       "      <th>homepage</th>\n",
       "      <th>id</th>\n",
       "      <th>keywords</th>\n",
       "      <th>original_language</th>\n",
       "      <th>original_title</th>\n",
       "      <th>overview</th>\n",
       "      <th>popularity</th>\n",
       "      <th>extracted_production_companies</th>\n",
       "      <th>production_companies</th>\n",
       "      <th>production_countries</th>\n",
       "      <th>release_date</th>\n",
       "      <th>revenue</th>\n",
       "      <th>runtime</th>\n",
       "      <th>spoken_languages</th>\n",
       "      <th>status</th>\n",
       "      <th>tagline</th>\n",
       "      <th>title</th>\n",
       "      <th>vote_average</th>\n",
       "      <th>vote_count</th>\n",
       "    </tr>\n",
       "  </thead>\n",
       "  <tbody>\n",
       "    <tr>\n",
       "      <th>0</th>\n",
       "      <td>237000000</td>\n",
       "      <td>[ 28,  12,  14,  878]</td>\n",
       "      <td>[Action, Adventure, Fantasy, Science Fiction]</td>\n",
       "      <td>[{\"id\": 28, \"name\": \"Action\"}, {\"id\": 12, \"nam...</td>\n",
       "      <td>http://www.avatarmovie.com/</td>\n",
       "      <td>19995</td>\n",
       "      <td>[{\"id\": 1463, \"name\": \"culture clash\"}, {\"id\":...</td>\n",
       "      <td>en</td>\n",
       "      <td>Avatar</td>\n",
       "      <td>In the 22nd century, a paraplegic Marine is di...</td>\n",
       "      <td>150.437577</td>\n",
       "      <td>[Ingenious Film Partners, Twentieth Century Fo...</td>\n",
       "      <td>[{\"name\": \"Ingenious Film Partners\", \"id\": 289...</td>\n",
       "      <td>[{\"iso_3166_1\": \"US\", \"name\": \"United States o...</td>\n",
       "      <td>2009-12-10</td>\n",
       "      <td>2787965087</td>\n",
       "      <td>162.0</td>\n",
       "      <td>[{\"iso_639_1\": \"en\", \"name\": \"English\"}, {\"iso...</td>\n",
       "      <td>Released</td>\n",
       "      <td>Enter the World of Pandora.</td>\n",
       "      <td>Avatar</td>\n",
       "      <td>7.2</td>\n",
       "      <td>11800</td>\n",
       "    </tr>\n",
       "    <tr>\n",
       "      <th>1</th>\n",
       "      <td>300000000</td>\n",
       "      <td>[ 12,  14,  28]</td>\n",
       "      <td>[Adventure, Fantasy, Action]</td>\n",
       "      <td>[{\"id\": 12, \"name\": \"Adventure\"}, {\"id\": 14, \"...</td>\n",
       "      <td>http://disney.go.com/disneypictures/pirates/</td>\n",
       "      <td>285</td>\n",
       "      <td>[{\"id\": 270, \"name\": \"ocean\"}, {\"id\": 726, \"na...</td>\n",
       "      <td>en</td>\n",
       "      <td>Pirates of the Caribbean: At World's End</td>\n",
       "      <td>Captain Barbossa, long believed to be dead, ha...</td>\n",
       "      <td>139.082615</td>\n",
       "      <td>[Walt Disney Pictures, Jerry Bruckheimer Films...</td>\n",
       "      <td>[{\"name\": \"Walt Disney Pictures\", \"id\": 2}, {\"...</td>\n",
       "      <td>[{\"iso_3166_1\": \"US\", \"name\": \"United States o...</td>\n",
       "      <td>2007-05-19</td>\n",
       "      <td>961000000</td>\n",
       "      <td>169.0</td>\n",
       "      <td>[{\"iso_639_1\": \"en\", \"name\": \"English\"}]</td>\n",
       "      <td>Released</td>\n",
       "      <td>At the end of the world, the adventure begins.</td>\n",
       "      <td>Pirates of the Caribbean: At World's End</td>\n",
       "      <td>6.9</td>\n",
       "      <td>4500</td>\n",
       "    </tr>\n",
       "    <tr>\n",
       "      <th>2</th>\n",
       "      <td>245000000</td>\n",
       "      <td>[ 28,  12,  80]</td>\n",
       "      <td>[Action, Adventure, Crime]</td>\n",
       "      <td>[{\"id\": 28, \"name\": \"Action\"}, {\"id\": 12, \"nam...</td>\n",
       "      <td>http://www.sonypictures.com/movies/spectre/</td>\n",
       "      <td>206647</td>\n",
       "      <td>[{\"id\": 470, \"name\": \"spy\"}, {\"id\": 818, \"name...</td>\n",
       "      <td>en</td>\n",
       "      <td>Spectre</td>\n",
       "      <td>A cryptic message from Bond’s past sends him o...</td>\n",
       "      <td>107.376788</td>\n",
       "      <td>[Columbia Pictures, Danjaq, B24]</td>\n",
       "      <td>[{\"name\": \"Columbia Pictures\", \"id\": 5}, {\"nam...</td>\n",
       "      <td>[{\"iso_3166_1\": \"GB\", \"name\": \"United Kingdom\"...</td>\n",
       "      <td>2015-10-26</td>\n",
       "      <td>880674609</td>\n",
       "      <td>148.0</td>\n",
       "      <td>[{\"iso_639_1\": \"fr\", \"name\": \"Fran\\u00e7ais\"},...</td>\n",
       "      <td>Released</td>\n",
       "      <td>A Plan No One Escapes</td>\n",
       "      <td>Spectre</td>\n",
       "      <td>6.3</td>\n",
       "      <td>4466</td>\n",
       "    </tr>\n",
       "  </tbody>\n",
       "</table>\n",
       "</div>"
      ],
      "text/plain": [
       "      budget              genre_ids  \\\n",
       "0  237000000  [ 28,  12,  14,  878]   \n",
       "1  300000000        [ 12,  14,  28]   \n",
       "2  245000000        [ 28,  12,  80]   \n",
       "\n",
       "                                     genre_names  \\\n",
       "0  [Action, Adventure, Fantasy, Science Fiction]   \n",
       "1                   [Adventure, Fantasy, Action]   \n",
       "2                     [Action, Adventure, Crime]   \n",
       "\n",
       "                                              genres  \\\n",
       "0  [{\"id\": 28, \"name\": \"Action\"}, {\"id\": 12, \"nam...   \n",
       "1  [{\"id\": 12, \"name\": \"Adventure\"}, {\"id\": 14, \"...   \n",
       "2  [{\"id\": 28, \"name\": \"Action\"}, {\"id\": 12, \"nam...   \n",
       "\n",
       "                                       homepage      id  \\\n",
       "0                   http://www.avatarmovie.com/   19995   \n",
       "1  http://disney.go.com/disneypictures/pirates/     285   \n",
       "2   http://www.sonypictures.com/movies/spectre/  206647   \n",
       "\n",
       "                                            keywords original_language  \\\n",
       "0  [{\"id\": 1463, \"name\": \"culture clash\"}, {\"id\":...                en   \n",
       "1  [{\"id\": 270, \"name\": \"ocean\"}, {\"id\": 726, \"na...                en   \n",
       "2  [{\"id\": 470, \"name\": \"spy\"}, {\"id\": 818, \"name...                en   \n",
       "\n",
       "                             original_title  \\\n",
       "0                                    Avatar   \n",
       "1  Pirates of the Caribbean: At World's End   \n",
       "2                                   Spectre   \n",
       "\n",
       "                                            overview  popularity  \\\n",
       "0  In the 22nd century, a paraplegic Marine is di...  150.437577   \n",
       "1  Captain Barbossa, long believed to be dead, ha...  139.082615   \n",
       "2  A cryptic message from Bond’s past sends him o...  107.376788   \n",
       "\n",
       "                      extracted_production_companies  \\\n",
       "0  [Ingenious Film Partners, Twentieth Century Fo...   \n",
       "1  [Walt Disney Pictures, Jerry Bruckheimer Films...   \n",
       "2                   [Columbia Pictures, Danjaq, B24]   \n",
       "\n",
       "                                production_companies  \\\n",
       "0  [{\"name\": \"Ingenious Film Partners\", \"id\": 289...   \n",
       "1  [{\"name\": \"Walt Disney Pictures\", \"id\": 2}, {\"...   \n",
       "2  [{\"name\": \"Columbia Pictures\", \"id\": 5}, {\"nam...   \n",
       "\n",
       "                                production_countries release_date     revenue  \\\n",
       "0  [{\"iso_3166_1\": \"US\", \"name\": \"United States o...   2009-12-10  2787965087   \n",
       "1  [{\"iso_3166_1\": \"US\", \"name\": \"United States o...   2007-05-19   961000000   \n",
       "2  [{\"iso_3166_1\": \"GB\", \"name\": \"United Kingdom\"...   2015-10-26   880674609   \n",
       "\n",
       "   runtime                                   spoken_languages    status  \\\n",
       "0    162.0  [{\"iso_639_1\": \"en\", \"name\": \"English\"}, {\"iso...  Released   \n",
       "1    169.0           [{\"iso_639_1\": \"en\", \"name\": \"English\"}]  Released   \n",
       "2    148.0  [{\"iso_639_1\": \"fr\", \"name\": \"Fran\\u00e7ais\"},...  Released   \n",
       "\n",
       "                                          tagline  \\\n",
       "0                     Enter the World of Pandora.   \n",
       "1  At the end of the world, the adventure begins.   \n",
       "2                           A Plan No One Escapes   \n",
       "\n",
       "                                      title  vote_average  vote_count  \n",
       "0                                    Avatar           7.2       11800  \n",
       "1  Pirates of the Caribbean: At World's End           6.9        4500  \n",
       "2                                   Spectre           6.3        4466  "
      ]
     },
     "execution_count": 136,
     "metadata": {},
     "output_type": "execute_result"
    }
   ],
   "source": [
    "# First Look\n",
    "pd.set_option('display.max_columns', None)\n",
    "df.head(3)"
   ]
  },
  {
   "cell_type": "markdown",
   "id": "ca60a230-5182-4af3-b517-faa247638f24",
   "metadata": {
    "tags": []
   },
   "source": [
    "#### **1.1** Some Basic Information"
   ]
  },
  {
   "cell_type": "code",
   "execution_count": 7,
   "id": "8c3a3a66-9c58-45ce-b5a8-cd0dc65ae69f",
   "metadata": {},
   "outputs": [
    {
     "data": {
      "text/html": [
       "<div>\n",
       "<style scoped>\n",
       "    .dataframe tbody tr th:only-of-type {\n",
       "        vertical-align: middle;\n",
       "    }\n",
       "\n",
       "    .dataframe tbody tr th {\n",
       "        vertical-align: top;\n",
       "    }\n",
       "\n",
       "    .dataframe thead th {\n",
       "        text-align: right;\n",
       "    }\n",
       "</style>\n",
       "<table border=\"1\" class=\"dataframe\">\n",
       "  <thead>\n",
       "    <tr style=\"text-align: right;\">\n",
       "      <th></th>\n",
       "      <th>budget</th>\n",
       "      <th>id</th>\n",
       "      <th>popularity</th>\n",
       "      <th>revenue</th>\n",
       "      <th>runtime</th>\n",
       "      <th>vote_average</th>\n",
       "      <th>vote_count</th>\n",
       "    </tr>\n",
       "  </thead>\n",
       "  <tbody>\n",
       "    <tr>\n",
       "      <th>count</th>\n",
       "      <td>4.803000e+03</td>\n",
       "      <td>4803.000000</td>\n",
       "      <td>4803.000000</td>\n",
       "      <td>4.803000e+03</td>\n",
       "      <td>4801.000000</td>\n",
       "      <td>4803.000000</td>\n",
       "      <td>4803.000000</td>\n",
       "    </tr>\n",
       "    <tr>\n",
       "      <th>mean</th>\n",
       "      <td>2.904504e+07</td>\n",
       "      <td>57165.484281</td>\n",
       "      <td>21.492301</td>\n",
       "      <td>8.226064e+07</td>\n",
       "      <td>106.875859</td>\n",
       "      <td>6.092172</td>\n",
       "      <td>690.217989</td>\n",
       "    </tr>\n",
       "    <tr>\n",
       "      <th>std</th>\n",
       "      <td>4.072239e+07</td>\n",
       "      <td>88694.614033</td>\n",
       "      <td>31.816650</td>\n",
       "      <td>1.628571e+08</td>\n",
       "      <td>22.611935</td>\n",
       "      <td>1.194612</td>\n",
       "      <td>1234.585891</td>\n",
       "    </tr>\n",
       "    <tr>\n",
       "      <th>min</th>\n",
       "      <td>0.000000e+00</td>\n",
       "      <td>5.000000</td>\n",
       "      <td>0.000000</td>\n",
       "      <td>0.000000e+00</td>\n",
       "      <td>0.000000</td>\n",
       "      <td>0.000000</td>\n",
       "      <td>0.000000</td>\n",
       "    </tr>\n",
       "    <tr>\n",
       "      <th>25%</th>\n",
       "      <td>7.900000e+05</td>\n",
       "      <td>9014.500000</td>\n",
       "      <td>4.668070</td>\n",
       "      <td>0.000000e+00</td>\n",
       "      <td>94.000000</td>\n",
       "      <td>5.600000</td>\n",
       "      <td>54.000000</td>\n",
       "    </tr>\n",
       "    <tr>\n",
       "      <th>50%</th>\n",
       "      <td>1.500000e+07</td>\n",
       "      <td>14629.000000</td>\n",
       "      <td>12.921594</td>\n",
       "      <td>1.917000e+07</td>\n",
       "      <td>103.000000</td>\n",
       "      <td>6.200000</td>\n",
       "      <td>235.000000</td>\n",
       "    </tr>\n",
       "    <tr>\n",
       "      <th>75%</th>\n",
       "      <td>4.000000e+07</td>\n",
       "      <td>58610.500000</td>\n",
       "      <td>28.313505</td>\n",
       "      <td>9.291719e+07</td>\n",
       "      <td>118.000000</td>\n",
       "      <td>6.800000</td>\n",
       "      <td>737.000000</td>\n",
       "    </tr>\n",
       "    <tr>\n",
       "      <th>max</th>\n",
       "      <td>3.800000e+08</td>\n",
       "      <td>459488.000000</td>\n",
       "      <td>875.581305</td>\n",
       "      <td>2.787965e+09</td>\n",
       "      <td>338.000000</td>\n",
       "      <td>10.000000</td>\n",
       "      <td>13752.000000</td>\n",
       "    </tr>\n",
       "  </tbody>\n",
       "</table>\n",
       "</div>"
      ],
      "text/plain": [
       "             budget             id   popularity       revenue      runtime  \\\n",
       "count  4.803000e+03    4803.000000  4803.000000  4.803000e+03  4801.000000   \n",
       "mean   2.904504e+07   57165.484281    21.492301  8.226064e+07   106.875859   \n",
       "std    4.072239e+07   88694.614033    31.816650  1.628571e+08    22.611935   \n",
       "min    0.000000e+00       5.000000     0.000000  0.000000e+00     0.000000   \n",
       "25%    7.900000e+05    9014.500000     4.668070  0.000000e+00    94.000000   \n",
       "50%    1.500000e+07   14629.000000    12.921594  1.917000e+07   103.000000   \n",
       "75%    4.000000e+07   58610.500000    28.313505  9.291719e+07   118.000000   \n",
       "max    3.800000e+08  459488.000000   875.581305  2.787965e+09   338.000000   \n",
       "\n",
       "       vote_average    vote_count  \n",
       "count   4803.000000   4803.000000  \n",
       "mean       6.092172    690.217989  \n",
       "std        1.194612   1234.585891  \n",
       "min        0.000000      0.000000  \n",
       "25%        5.600000     54.000000  \n",
       "50%        6.200000    235.000000  \n",
       "75%        6.800000    737.000000  \n",
       "max       10.000000  13752.000000  "
      ]
     },
     "execution_count": 7,
     "metadata": {},
     "output_type": "execute_result"
    }
   ],
   "source": [
    "# A General Overview some of the aggrgates of the numerical columns\n",
    "df.describe()"
   ]
  },
  {
   "cell_type": "code",
   "execution_count": 9,
   "id": "535beb7d-2bb5-41d8-b558-c81731e16ccd",
   "metadata": {},
   "outputs": [
    {
     "name": "stdout",
     "output_type": "stream",
     "text": [
      "<class 'pandas.core.frame.DataFrame'>\n",
      "RangeIndex: 4803 entries, 0 to 4802\n",
      "Data columns (total 20 columns):\n",
      " #   Column                Non-Null Count  Dtype  \n",
      "---  ------                --------------  -----  \n",
      " 0   budget                4803 non-null   int64  \n",
      " 1   genres                4803 non-null   object \n",
      " 2   homepage              1712 non-null   object \n",
      " 3   id                    4803 non-null   int64  \n",
      " 4   keywords              4803 non-null   object \n",
      " 5   original_language     4803 non-null   object \n",
      " 6   original_title        4803 non-null   object \n",
      " 7   overview              4800 non-null   object \n",
      " 8   popularity            4803 non-null   float64\n",
      " 9   production_companies  4803 non-null   object \n",
      " 10  production_countries  4803 non-null   object \n",
      " 11  release_date          4802 non-null   object \n",
      " 12  revenue               4803 non-null   int64  \n",
      " 13  runtime               4801 non-null   float64\n",
      " 14  spoken_languages      4803 non-null   object \n",
      " 15  status                4803 non-null   object \n",
      " 16  tagline               3959 non-null   object \n",
      " 17  title                 4803 non-null   object \n",
      " 18  vote_average          4803 non-null   float64\n",
      " 19  vote_count            4803 non-null   int64  \n",
      "dtypes: float64(3), int64(4), object(13)\n",
      "memory usage: 750.6+ KB\n"
     ]
    }
   ],
   "source": [
    "# Some general information about the dataframe\n",
    "df.info()"
   ]
  },
  {
   "cell_type": "markdown",
   "id": "04656134-bb3a-438f-ae1c-9a0c40a575ed",
   "metadata": {
    "tags": []
   },
   "source": [
    "##### **1.1.1** Nulls"
   ]
  },
  {
   "cell_type": "code",
   "execution_count": 8,
   "id": "4c4cf5b1-2fae-42fa-bc2f-557d1283dbf3",
   "metadata": {},
   "outputs": [
    {
     "data": {
      "text/plain": [
       "budget                     0\n",
       "genres                     0\n",
       "homepage                3091\n",
       "id                         0\n",
       "keywords                   0\n",
       "original_language          0\n",
       "original_title             0\n",
       "overview                   3\n",
       "popularity                 0\n",
       "production_companies       0\n",
       "production_countries       0\n",
       "release_date               1\n",
       "revenue                    0\n",
       "runtime                    2\n",
       "spoken_languages           0\n",
       "status                     0\n",
       "tagline                  844\n",
       "title                      0\n",
       "vote_average               0\n",
       "vote_count                 0\n",
       "dtype: int64"
      ]
     },
     "execution_count": 8,
     "metadata": {},
     "output_type": "execute_result"
    }
   ],
   "source": [
    "# The total number of nulls in each column\n",
    "df.isnull().sum()"
   ]
  },
  {
   "cell_type": "markdown",
   "id": "5801f8b1-b00e-473f-b47d-cfae9f1dabaf",
   "metadata": {},
   "source": [
    "* We have a significant number of nulls in the _'homepage'_ and _'tagline'_ column. Unless needed for insights these can just be dropped.\n",
    "* The nulls in _'release_date'_ and _'runtime'_ are probably just mistakes in data entry (MCAR). If needed the data can be added but there is only one or two missing so we can just ignore the rows. \n",
    "* The _'overview'_ column has three missing entries. Again these rows can just be ignored. We can also just drop the column if its not needed for any insights.\n",
    "\n",
    "* Under 'The 0 Revenues' in the Analysis Section of this document I find that the _'budget'_ and _'revenue'_ columns has rows with nulls in the form of 0's. Quite a significant portion of the dataset has this (1427 rows of 4803). To tackle this we could do a custom filling depending on the type of insight we want to draw. For example, if I want to look at the average revenue against the count of genres, I replace the zeros with the average mean depending on the count of genres"
   ]
  },
  {
   "cell_type": "markdown",
   "id": "1ea318f2-a556-41a5-8975-6585a669e385",
   "metadata": {
    "tags": []
   },
   "source": [
    "#### **1.2** Making the Data more Readable\n",
    "When looking at data, the first thing that stood out was the fact that some columns (_'genres', 'keyword', 'production_companies', 'production_countries'_ and _'spoken_languages'_ ) had a list of dictionaries as its contents.\n",
    "Below I have converted the list of dictonaries to just lists of the items that we want:"
   ]
  },
  {
   "cell_type": "markdown",
   "id": "b6ae926f-9882-4f67-a497-2cd7076eaa72",
   "metadata": {
    "tags": []
   },
   "source": [
    "##### **1.2.1** My Attempt with Regex"
   ]
  },
  {
   "cell_type": "markdown",
   "id": "27cec728-2557-4a64-a52f-ecdb8844e351",
   "metadata": {},
   "source": [
    "Seperating the 'ids' and 'names' from the _'genres'_ column:"
   ]
  },
  {
   "cell_type": "code",
   "execution_count": 12,
   "id": "bb79970c-abcd-4a1d-8ce3-4098b975605f",
   "metadata": {},
   "outputs": [],
   "source": [
    "import re"
   ]
  },
  {
   "cell_type": "code",
   "execution_count": 13,
   "id": "ea2d8c86-914f-454e-86b2-90f7be0fa15c",
   "metadata": {},
   "outputs": [
    {
     "data": {
      "text/html": [
       "<div>\n",
       "<style scoped>\n",
       "    .dataframe tbody tr th:only-of-type {\n",
       "        vertical-align: middle;\n",
       "    }\n",
       "\n",
       "    .dataframe tbody tr th {\n",
       "        vertical-align: top;\n",
       "    }\n",
       "\n",
       "    .dataframe thead th {\n",
       "        text-align: right;\n",
       "    }\n",
       "</style>\n",
       "<table border=\"1\" class=\"dataframe\">\n",
       "  <thead>\n",
       "    <tr style=\"text-align: right;\">\n",
       "      <th></th>\n",
       "      <th>genre_ids</th>\n",
       "      <th>genre_names</th>\n",
       "      <th>genres</th>\n",
       "    </tr>\n",
       "  </thead>\n",
       "  <tbody>\n",
       "    <tr>\n",
       "      <th>0</th>\n",
       "      <td>[ 28,  12,  14,  878]</td>\n",
       "      <td>[Action, Adventure, Fantasy, Science Fiction]</td>\n",
       "      <td>[{\"id\": 28, \"name\": \"Action\"}, {\"id\": 12, \"nam...</td>\n",
       "    </tr>\n",
       "    <tr>\n",
       "      <th>1</th>\n",
       "      <td>[ 12,  14,  28]</td>\n",
       "      <td>[Adventure, Fantasy, Action]</td>\n",
       "      <td>[{\"id\": 12, \"name\": \"Adventure\"}, {\"id\": 14, \"...</td>\n",
       "    </tr>\n",
       "    <tr>\n",
       "      <th>2</th>\n",
       "      <td>[ 28,  12,  80]</td>\n",
       "      <td>[Action, Adventure, Crime]</td>\n",
       "      <td>[{\"id\": 28, \"name\": \"Action\"}, {\"id\": 12, \"nam...</td>\n",
       "    </tr>\n",
       "    <tr>\n",
       "      <th>3</th>\n",
       "      <td>[ 28,  80,  18,  53]</td>\n",
       "      <td>[Action, Crime, Drama, Thriller]</td>\n",
       "      <td>[{\"id\": 28, \"name\": \"Action\"}, {\"id\": 80, \"nam...</td>\n",
       "    </tr>\n",
       "    <tr>\n",
       "      <th>4</th>\n",
       "      <td>[ 28,  12,  878]</td>\n",
       "      <td>[Action, Adventure, Science Fiction]</td>\n",
       "      <td>[{\"id\": 28, \"name\": \"Action\"}, {\"id\": 12, \"nam...</td>\n",
       "    </tr>\n",
       "  </tbody>\n",
       "</table>\n",
       "</div>"
      ],
      "text/plain": [
       "               genre_ids                                    genre_names  \\\n",
       "0  [ 28,  12,  14,  878]  [Action, Adventure, Fantasy, Science Fiction]   \n",
       "1        [ 12,  14,  28]                   [Adventure, Fantasy, Action]   \n",
       "2        [ 28,  12,  80]                     [Action, Adventure, Crime]   \n",
       "3   [ 28,  80,  18,  53]               [Action, Crime, Drama, Thriller]   \n",
       "4       [ 28,  12,  878]           [Action, Adventure, Science Fiction]   \n",
       "\n",
       "                                              genres  \n",
       "0  [{\"id\": 28, \"name\": \"Action\"}, {\"id\": 12, \"nam...  \n",
       "1  [{\"id\": 12, \"name\": \"Adventure\"}, {\"id\": 14, \"...  \n",
       "2  [{\"id\": 28, \"name\": \"Action\"}, {\"id\": 12, \"nam...  \n",
       "3  [{\"id\": 28, \"name\": \"Action\"}, {\"id\": 80, \"nam...  \n",
       "4  [{\"id\": 28, \"name\": \"Action\"}, {\"id\": 12, \"nam...  "
      ]
     },
     "execution_count": 13,
     "metadata": {},
     "output_type": "execute_result"
    }
   ],
   "source": [
    "# Seperating the \"ids\" from the genres\n",
    "## The RegEx identifies the dictionaries and groups the ids\n",
    "## We create a new column called 'genre_ids' where in each row we see the list of all the genre ids\n",
    "df['genre_ids']=df['genres'].str.findall(r'\\{\"id\":( \\d+), \"name\": \"[A-Z][a-z]+\\s*[A-Z]?[a-z]*\"\\}')\n",
    "\n",
    "# Seperating the \"names\" from the genres\n",
    "## The RegEx identifies the dictionaries and groups the names\n",
    "## We create a new column called 'genre_names' where in each row we see the list of all the genre names\n",
    "df['genre_names']=df['genres'].str.findall(r'\\{\"id\": \\d+, \"name\": \"([A-Z][a-z]+\\s*[A-Z]?[a-z]*)\"\\}')\n",
    "\n",
    "# Side-by side comparison check\n",
    "df[['genre_ids', 'genre_names','genres']].head()"
   ]
  },
  {
   "cell_type": "code",
   "execution_count": 14,
   "id": "daefaeb0-49c3-4550-af75-d3c313d82457",
   "metadata": {},
   "outputs": [
    {
     "data": {
      "text/plain": [
       "Index(['budget', 'genres', 'homepage', 'id', 'keywords', 'original_language',\n",
       "       'original_title', 'overview', 'popularity', 'production_companies',\n",
       "       'production_countries', 'release_date', 'revenue', 'runtime',\n",
       "       'spoken_languages', 'status', 'tagline', 'title', 'vote_average',\n",
       "       'vote_count', 'genre_ids', 'genre_names'],\n",
       "      dtype='object')"
      ]
     },
     "execution_count": 14,
     "metadata": {},
     "output_type": "execute_result"
    }
   ],
   "source": [
    "df.columns"
   ]
  },
  {
   "cell_type": "code",
   "execution_count": 15,
   "id": "b62d8221-3648-4427-a3fd-73e5bda26e23",
   "metadata": {},
   "outputs": [],
   "source": [
    "# I don't like the column orders so changing it so that its before the genres column\n",
    "## Done with the help of ChatGPT\n",
    "df.insert(1, 'genre_ids', df.pop('genre_ids'))\n",
    "df.insert(2, 'genre_names', df.pop('genre_names'))"
   ]
  },
  {
   "cell_type": "code",
   "execution_count": 132,
   "id": "cbfb3e35-8971-468b-84b8-14169b30286a",
   "metadata": {
    "tags": []
   },
   "outputs": [
    {
     "data": {
      "text/plain": [
       "Index(['budget', 'genre_ids', 'genre_names', 'genres', 'homepage', 'id',\n",
       "       'keywords', 'original_language', 'original_title', 'overview',\n",
       "       'popularity', 'extracted_production_companies', 'production_companies',\n",
       "       'production_countries', 'release_date', 'revenue', 'runtime',\n",
       "       'spoken_languages', 'status', 'tagline', 'title', 'vote_average',\n",
       "       'vote_count'],\n",
       "      dtype='object')"
      ]
     },
     "execution_count": 132,
     "metadata": {},
     "output_type": "execute_result"
    }
   ],
   "source": [
    "# Have a lokk\n",
    "df.columns"
   ]
  },
  {
   "cell_type": "markdown",
   "id": "8f60c9e4-a093-496d-afe7-7e8b41413487",
   "metadata": {},
   "source": [
    "Success!!"
   ]
  },
  {
   "cell_type": "markdown",
   "id": "3f18bfc3-9f66-4f88-93de-ed089449d38b",
   "metadata": {
    "jp-MarkdownHeadingCollapsed": true,
    "tags": []
   },
   "source": [
    "##### **1.2.2** Alex's code using Abstract Syntax Library (**ast**)"
   ]
  },
  {
   "cell_type": "markdown",
   "id": "9bd9bc7d-eaea-4f45-b426-7fadc8f4ffb0",
   "metadata": {},
   "source": [
    "Alex gave a function to do the above, by defining a function using the `ast` module. I changed the name from _'extract_genres'_ to _'extract_list'_. This will make it easier to use, in terms of clarity, for the other columns."
   ]
  },
  {
   "cell_type": "code",
   "execution_count": 18,
   "id": "74ecfbb4-b2b1-4928-b3a7-59ccf24480a4",
   "metadata": {
    "tags": []
   },
   "outputs": [],
   "source": [
    "## Function to extract values from the list of dictionaries for each datapoint\n",
    "import ast ## This module can be used to evaluate literals, eg: transform string-lists back into lists\n",
    "def extract_list(x): \n",
    "    x = ast.literal_eval(x) ## Transform '['name', 'id']' back into ['name', 'id']\n",
    "    List = [] ## Empty list to store the genres\n",
    "    \n",
    "    ''' Iterate through each dictionary '''\n",
    "    for item in x: ## iterate for each dictionary in our list\n",
    "        List.append(item['name']) ## Grab the 'name' key for each dictionary\n",
    "        \n",
    "    ''' Return the Names'''\n",
    "    return List\n",
    "\n",
    "## Apply the function to production_companies\n",
    "df['extracted_production_companies'] = df['production_companies'].apply(extract_list)\n",
    "\n",
    "## Reordering the columns so that the extracted column is before the existing one in the dataframe\n",
    "df.insert(11, 'extracted_production_companies', df.pop('extracted_production_companies'))"
   ]
  },
  {
   "cell_type": "markdown",
   "id": "a500c188-48d2-4962-81f4-25be97b9597f",
   "metadata": {},
   "source": [
    "We can now use this function or alter it slightly - if, for example, we want the ids instead of the name - to extract the information we want from the remaining columns."
   ]
  },
  {
   "cell_type": "markdown",
   "id": "8a0ac650-8a74-40b5-8ea9-2a6ab0ff688e",
   "metadata": {
    "tags": []
   },
   "source": [
    "### **2** Analysis"
   ]
  },
  {
   "cell_type": "markdown",
   "id": "510a4727-9c8f-434d-8027-015e4f7e1b39",
   "metadata": {},
   "source": [
    "Since I have extracted the genres, I decided to have a look at **How many movies does each genre contain?** "
   ]
  },
  {
   "cell_type": "markdown",
   "id": "d98e7378-fd19-4980-9638-dd53e827fee7",
   "metadata": {
    "jp-MarkdownHeadingCollapsed": true,
    "tags": []
   },
   "source": [
    "###### The Code"
   ]
  },
  {
   "cell_type": "code",
   "execution_count": 23,
   "id": "39397d2d-c61a-4b41-8cb6-ff1ab5e64353",
   "metadata": {},
   "outputs": [
    {
     "data": {
      "text/html": [
       "<div>\n",
       "<style scoped>\n",
       "    .dataframe tbody tr th:only-of-type {\n",
       "        vertical-align: middle;\n",
       "    }\n",
       "\n",
       "    .dataframe tbody tr th {\n",
       "        vertical-align: top;\n",
       "    }\n",
       "\n",
       "    .dataframe thead th {\n",
       "        text-align: right;\n",
       "    }\n",
       "</style>\n",
       "<table border=\"1\" class=\"dataframe\">\n",
       "  <thead>\n",
       "    <tr style=\"text-align: right;\">\n",
       "      <th></th>\n",
       "      <th>title</th>\n",
       "      <th>genre_names</th>\n",
       "    </tr>\n",
       "  </thead>\n",
       "  <tbody>\n",
       "    <tr>\n",
       "      <th>0</th>\n",
       "      <td>Avatar</td>\n",
       "      <td>[Action, Adventure, Fantasy, Science Fiction]</td>\n",
       "    </tr>\n",
       "    <tr>\n",
       "      <th>1</th>\n",
       "      <td>Pirates of the Caribbean: At World's End</td>\n",
       "      <td>[Adventure, Fantasy, Action]</td>\n",
       "    </tr>\n",
       "    <tr>\n",
       "      <th>2</th>\n",
       "      <td>Spectre</td>\n",
       "      <td>[Action, Adventure, Crime]</td>\n",
       "    </tr>\n",
       "    <tr>\n",
       "      <th>3</th>\n",
       "      <td>The Dark Knight Rises</td>\n",
       "      <td>[Action, Crime, Drama, Thriller]</td>\n",
       "    </tr>\n",
       "    <tr>\n",
       "      <th>4</th>\n",
       "      <td>John Carter</td>\n",
       "      <td>[Action, Adventure, Science Fiction]</td>\n",
       "    </tr>\n",
       "  </tbody>\n",
       "</table>\n",
       "</div>"
      ],
      "text/plain": [
       "                                      title  \\\n",
       "0                                    Avatar   \n",
       "1  Pirates of the Caribbean: At World's End   \n",
       "2                                   Spectre   \n",
       "3                     The Dark Knight Rises   \n",
       "4                               John Carter   \n",
       "\n",
       "                                     genre_names  \n",
       "0  [Action, Adventure, Fantasy, Science Fiction]  \n",
       "1                   [Adventure, Fantasy, Action]  \n",
       "2                     [Action, Adventure, Crime]  \n",
       "3               [Action, Crime, Drama, Thriller]  \n",
       "4           [Action, Adventure, Science Fiction]  "
      ]
     },
     "execution_count": 23,
     "metadata": {},
     "output_type": "execute_result"
    }
   ],
   "source": [
    "# Having a look at what I have\n",
    "df[['title','genre_names']].head()"
   ]
  },
  {
   "cell_type": "markdown",
   "id": "b96338ca-a2fa-49a6-b0e1-92e308805f4b",
   "metadata": {},
   "source": [
    "I want to look at the movie count for each genre but, from the above table, I see that each movies has multiple genres. I need to seperate the lists (i.e. one genre and one title per row) using `.explode`. Then group by _'genres'_ to get the count. \n",
    "\n",
    "_NOTE:_ Since most of the movies have multiple genres there wil be duplicates in the count"
   ]
  },
  {
   "cell_type": "code",
   "execution_count": 25,
   "id": "14f25640-8f92-4af4-a437-45c7740c36b7",
   "metadata": {},
   "outputs": [
    {
     "data": {
      "text/plain": [
       "(12180, 23)"
      ]
     },
     "execution_count": 25,
     "metadata": {},
     "output_type": "execute_result"
    }
   ],
   "source": [
    "# Creating the dataframe with the 'exploded' genres\n",
    "df_exploded_genres = df.explode('genre_names').copy()\n",
    "\n",
    "## Having a look at its shape ---> it has more rows than the original dataframe\n",
    "df_exploded_genres.shape"
   ]
  },
  {
   "cell_type": "code",
   "execution_count": 26,
   "id": "286dbc11-576c-4ce2-b19f-2ef76a071277",
   "metadata": {
    "scrolled": true,
    "tags": []
   },
   "outputs": [
    {
     "data": {
      "text/html": [
       "<div>\n",
       "<style scoped>\n",
       "    .dataframe tbody tr th:only-of-type {\n",
       "        vertical-align: middle;\n",
       "    }\n",
       "\n",
       "    .dataframe tbody tr th {\n",
       "        vertical-align: top;\n",
       "    }\n",
       "\n",
       "    .dataframe thead th {\n",
       "        text-align: right;\n",
       "    }\n",
       "</style>\n",
       "<table border=\"1\" class=\"dataframe\">\n",
       "  <thead>\n",
       "    <tr style=\"text-align: right;\">\n",
       "      <th></th>\n",
       "      <th>Genres</th>\n",
       "      <th>title</th>\n",
       "      <th>budget</th>\n",
       "      <th>revenue</th>\n",
       "    </tr>\n",
       "  </thead>\n",
       "  <tbody>\n",
       "    <tr>\n",
       "      <th>0</th>\n",
       "      <td>Action</td>\n",
       "      <td>1154</td>\n",
       "      <td>59443406599</td>\n",
       "      <td>162959914515</td>\n",
       "    </tr>\n",
       "    <tr>\n",
       "      <th>1</th>\n",
       "      <td>Adventure</td>\n",
       "      <td>790</td>\n",
       "      <td>52398220463</td>\n",
       "      <td>164841561551</td>\n",
       "    </tr>\n",
       "    <tr>\n",
       "      <th>2</th>\n",
       "      <td>Animation</td>\n",
       "      <td>234</td>\n",
       "      <td>15553021056</td>\n",
       "      <td>52812167865</td>\n",
       "    </tr>\n",
       "    <tr>\n",
       "      <th>3</th>\n",
       "      <td>Comedy</td>\n",
       "      <td>1722</td>\n",
       "      <td>43589711809</td>\n",
       "      <td>122760517608</td>\n",
       "    </tr>\n",
       "    <tr>\n",
       "      <th>4</th>\n",
       "      <td>Crime</td>\n",
       "      <td>696</td>\n",
       "      <td>19383466474</td>\n",
       "      <td>46040860686</td>\n",
       "    </tr>\n",
       "    <tr>\n",
       "      <th>5</th>\n",
       "      <td>Documentary</td>\n",
       "      <td>110</td>\n",
       "      <td>291861725</td>\n",
       "      <td>1082277678</td>\n",
       "    </tr>\n",
       "    <tr>\n",
       "      <th>6</th>\n",
       "      <td>Drama</td>\n",
       "      <td>2297</td>\n",
       "      <td>47498112157</td>\n",
       "      <td>119710983984</td>\n",
       "    </tr>\n",
       "    <tr>\n",
       "      <th>7</th>\n",
       "      <td>Family</td>\n",
       "      <td>513</td>\n",
       "      <td>26019109625</td>\n",
       "      <td>83283238689</td>\n",
       "    </tr>\n",
       "    <tr>\n",
       "      <th>8</th>\n",
       "      <td>Fantasy</td>\n",
       "      <td>424</td>\n",
       "      <td>26949696595</td>\n",
       "      <td>81982199925</td>\n",
       "    </tr>\n",
       "    <tr>\n",
       "      <th>9</th>\n",
       "      <td>Foreign</td>\n",
       "      <td>34</td>\n",
       "      <td>22375007</td>\n",
       "      <td>12398151</td>\n",
       "    </tr>\n",
       "    <tr>\n",
       "      <th>10</th>\n",
       "      <td>History</td>\n",
       "      <td>197</td>\n",
       "      <td>5890982931</td>\n",
       "      <td>11332141732</td>\n",
       "    </tr>\n",
       "    <tr>\n",
       "      <th>11</th>\n",
       "      <td>Horror</td>\n",
       "      <td>519</td>\n",
       "      <td>7563921991</td>\n",
       "      <td>22599894663</td>\n",
       "    </tr>\n",
       "    <tr>\n",
       "      <th>12</th>\n",
       "      <td>Music</td>\n",
       "      <td>185</td>\n",
       "      <td>2942970295</td>\n",
       "      <td>8964351078</td>\n",
       "    </tr>\n",
       "    <tr>\n",
       "      <th>13</th>\n",
       "      <td>Mystery</td>\n",
       "      <td>348</td>\n",
       "      <td>10699081450</td>\n",
       "      <td>27248722761</td>\n",
       "    </tr>\n",
       "    <tr>\n",
       "      <th>14</th>\n",
       "      <td>Romance</td>\n",
       "      <td>894</td>\n",
       "      <td>18158357743</td>\n",
       "      <td>53642137545</td>\n",
       "    </tr>\n",
       "    <tr>\n",
       "      <th>15</th>\n",
       "      <td>Science Fiction</td>\n",
       "      <td>535</td>\n",
       "      <td>27748069865</td>\n",
       "      <td>81564235745</td>\n",
       "    </tr>\n",
       "    <tr>\n",
       "      <th>16</th>\n",
       "      <td>Thriller</td>\n",
       "      <td>1274</td>\n",
       "      <td>40727495424</td>\n",
       "      <td>103250426269</td>\n",
       "    </tr>\n",
       "    <tr>\n",
       "      <th>17</th>\n",
       "      <td>War</td>\n",
       "      <td>144</td>\n",
       "      <td>5080673879</td>\n",
       "      <td>12118445911</td>\n",
       "    </tr>\n",
       "    <tr>\n",
       "      <th>18</th>\n",
       "      <td>Western</td>\n",
       "      <td>82</td>\n",
       "      <td>2220453601</td>\n",
       "      <td>3792169111</td>\n",
       "    </tr>\n",
       "  </tbody>\n",
       "</table>\n",
       "</div>"
      ],
      "text/plain": [
       "             Genres  title       budget       revenue\n",
       "0            Action   1154  59443406599  162959914515\n",
       "1         Adventure    790  52398220463  164841561551\n",
       "2         Animation    234  15553021056   52812167865\n",
       "3            Comedy   1722  43589711809  122760517608\n",
       "4             Crime    696  19383466474   46040860686\n",
       "5       Documentary    110    291861725    1082277678\n",
       "6             Drama   2297  47498112157  119710983984\n",
       "7            Family    513  26019109625   83283238689\n",
       "8           Fantasy    424  26949696595   81982199925\n",
       "9           Foreign     34     22375007      12398151\n",
       "10          History    197   5890982931   11332141732\n",
       "11           Horror    519   7563921991   22599894663\n",
       "12            Music    185   2942970295    8964351078\n",
       "13          Mystery    348  10699081450   27248722761\n",
       "14          Romance    894  18158357743   53642137545\n",
       "15  Science Fiction    535  27748069865   81564235745\n",
       "16         Thriller   1274  40727495424  103250426269\n",
       "17              War    144   5080673879   12118445911\n",
       "18          Western     82   2220453601    3792169111"
      ]
     },
     "execution_count": 26,
     "metadata": {},
     "output_type": "execute_result"
    }
   ],
   "source": [
    "# Creating the same table as above but with the total 'revenue' and total 'budget'\n",
    "## grouping the exploded dataframe by genres\n",
    "## .agg() allowing me to take multiple aggregates\n",
    "## .reset_index() creating a dataframe\n",
    "genre_table = df_exploded_genres.groupby('genre_names')\\\n",
    "    .agg({'title': 'count', 'budget': 'sum', 'revenue': 'sum'}).reset_index().copy()\n",
    "\n",
    "##Encountered a problem with plt.xlabel in The Plot so renamed here\n",
    "genre_table.rename(columns = {'genre_names':'Genres'}, inplace = True)\n",
    "\n",
    "genre_table"
   ]
  },
  {
   "cell_type": "markdown",
   "id": "8b5edc12-00b3-40cc-be37-6a80c5155b74",
   "metadata": {
    "jp-MarkdownHeadingCollapsed": true,
    "tags": []
   },
   "source": [
    "###### The Plot"
   ]
  },
  {
   "cell_type": "code",
   "execution_count": 28,
   "id": "2950b3e3-7b3a-41aa-a89c-6e5648c317a5",
   "metadata": {
    "tags": []
   },
   "outputs": [
    {
     "data": {
      "image/png": "[encoded data removed]",
      "text/plain": [
       "<Figure size 700x400 with 1 Axes>"
      ]
     },
     "metadata": {},
     "output_type": "display_data"
    }
   ],
   "source": [
    "# Setting the size of the output\n",
    "plt.figure(figsize = (7,4)) \n",
    "\n",
    "# Create bargraph\n",
    "sns.barplot( data = genre_table.sort_values(by='title', ascending = False),\n",
    "             x = 'Genres',\n",
    "             y = 'title',\n",
    "             palette = 'winter' # setting the colours\n",
    "           )\n",
    "\n",
    "# Adjusting the labels\n",
    "plt.xticks(rotation= 30, # rotating labels\n",
    "           horizontalalignment = 'right', # aligning them with the bars\n",
    "           verticalalignment='top',\n",
    "           fontweight = 'light' ,\n",
    "           fontsize = 'small' # setting the fonts\n",
    "          )\n",
    "# Adding/Changing axis labels\n",
    "\n",
    "plt.title('Number of movies in Each Genre\\n')\n",
    "#plt.xlabel('Genres')  ## did not work for some reason so I just renamed the column???\n",
    "plt.ylabel('Movie Count')\n",
    "\n",
    "\n",
    "plt.show()"
   ]
  },
  {
   "cell_type": "markdown",
   "id": "e82611a0-c08c-474d-87ba-18164e20618f",
   "metadata": {},
   "source": [
    "> I see that a lot of movies are categorised as _'Drama'_ with _'Comedy', 'Thriller'_ and _'Action'_ close behind."
   ]
  },
  {
   "cell_type": "markdown",
   "id": "427aa1a3-6f90-41e3-9268-c1bc5f10c7b2",
   "metadata": {},
   "source": [
    "If there are more movies categorised as a certain genre then it must also have a higher total revenue. So that's the next thing I look at:"
   ]
  },
  {
   "cell_type": "markdown",
   "id": "af843307-ba00-4f9a-be7b-bd7a7496979d",
   "metadata": {
    "tags": []
   },
   "source": [
    "####\n",
    "Next, I decided to look at **What is the total revenue for each genre?**"
   ]
  },
  {
   "cell_type": "markdown",
   "id": "16dc8d89-4ce6-46c6-ba35-6163ee8be9d3",
   "metadata": {
    "jp-MarkdownHeadingCollapsed": true,
    "tags": []
   },
   "source": [
    "###### The Plot"
   ]
  },
  {
   "cell_type": "code",
   "execution_count": 32,
   "id": "07ba08d0-ccc8-4aa4-8ecd-0a7a6ac4ed29",
   "metadata": {
    "tags": []
   },
   "outputs": [
    {
     "data": {
      "image/png": "[encoded data removed]",
      "text/plain": [
       "<Figure size 700x400 with 1 Axes>"
      ]
     },
     "metadata": {},
     "output_type": "display_data"
    }
   ],
   "source": [
    "# Setting the size of the output\n",
    "plt.figure(figsize = (7,4)) \n",
    "\n",
    "# Create bargraph\n",
    "sns.barplot( data = genre_table.sort_values(by='revenue', ascending = False),\n",
    "             x = 'Genres',\n",
    "             y = 'revenue',\n",
    "             palette = 'summer' # setting the colours\n",
    "           )\n",
    "\n",
    "# Adjusting the labels\n",
    "plt.xticks(rotation= 30, # rotating labels\n",
    "           horizontalalignment = 'right', # aligning them with the bars\n",
    "           verticalalignment='top',\n",
    "           fontweight = 'light' ,\n",
    "           fontsize = 'small' # setting the fonts\n",
    "          )\n",
    "\n",
    "# Adding/Changing axis labels\n",
    "plt.title('Total Revenue of Each Genre\\n')\n",
    "#plt.xlabel('Genres')  ## did not work for some reason so I just renamed the column???\n",
    "plt.ylabel('Total Revenue (Hundred Billions)')\n",
    "\n",
    "#trying to get rid of the weird label near the y-axis (le11 or x10**11)\n",
    "from matplotlib.ticker import ScalarFormatter\n",
    "plt.gca().yaxis.set_major_formatter(ScalarFormatter(useMathText=True, useOffset=True))\n",
    "\n",
    "plt.show()"
   ]
  },
  {
   "cell_type": "markdown",
   "id": "9b9440ad-5dc1-40a1-9368-e5eb9c4ff447",
   "metadata": {},
   "source": [
    "> Now I see that the _'Adventure'_ category is leading, with _'Action', 'Comedy, 'Drama'_ and _'Thriller'_ being in the Top 5. (The latter were the Top 4 by movie counts)"
   ]
  },
  {
   "cell_type": "markdown",
   "id": "94d29382-6487-47b2-9ba1-fbe3a247deb0",
   "metadata": {},
   "source": [
    "Does this mean that a movies with all these top performing genres will do well in terms of revenue? Looking at the Top 5 from the graph above (_'Adventure','Action','Comedy','Drama','Thriller'_):"
   ]
  },
  {
   "cell_type": "markdown",
   "id": "e5e2cd12-44fd-49ad-b062-8c89d5e7554c",
   "metadata": {},
   "source": [
    "#### \n",
    "**Is there a movie with all five of those genres?**"
   ]
  },
  {
   "cell_type": "markdown",
   "id": "529fdf01-6e94-4ab4-a961-579f7668912d",
   "metadata": {
    "jp-MarkdownHeadingCollapsed": true,
    "tags": []
   },
   "source": [
    "###### The Tables"
   ]
  },
  {
   "cell_type": "code",
   "execution_count": 36,
   "id": "3111f4a5-421f-483a-b67d-2532dea1890f",
   "metadata": {
    "tags": []
   },
   "outputs": [
    {
     "data": {
      "text/html": [
       "<div>\n",
       "<style scoped>\n",
       "    .dataframe tbody tr th:only-of-type {\n",
       "        vertical-align: middle;\n",
       "    }\n",
       "\n",
       "    .dataframe tbody tr th {\n",
       "        vertical-align: top;\n",
       "    }\n",
       "\n",
       "    .dataframe thead th {\n",
       "        text-align: right;\n",
       "    }\n",
       "</style>\n",
       "<table border=\"1\" class=\"dataframe\">\n",
       "  <thead>\n",
       "    <tr style=\"text-align: right;\">\n",
       "      <th></th>\n",
       "      <th>title</th>\n",
       "      <th>genre_names</th>\n",
       "    </tr>\n",
       "  </thead>\n",
       "  <tbody>\n",
       "    <tr>\n",
       "      <th>2442</th>\n",
       "      <td>Southland Tales</td>\n",
       "      <td>[Action, Adventure, Comedy, Drama, Science Fic...</td>\n",
       "    </tr>\n",
       "  </tbody>\n",
       "</table>\n",
       "</div>"
      ],
      "text/plain": [
       "                title                                        genre_names\n",
       "2442  Southland Tales  [Action, Adventure, Comedy, Drama, Science Fic..."
      ]
     },
     "execution_count": 36,
     "metadata": {},
     "output_type": "execute_result"
    }
   ],
   "source": [
    "genres_to_check=['Adventure','Action','Comedy','Drama','Thriller']\n",
    "\n",
    "# Masking to find movies with all the above listed genres\n",
    "df[df['genre_names'].apply(lambda x: all(item in x for item in genres_to_check))][['title','genre_names']]"
   ]
  },
  {
   "cell_type": "markdown",
   "id": "14b7ee3d-0993-4f58-bd4a-462512b91413",
   "metadata": {},
   "source": [
    "There is only one movie with all 5 of those genres. To find a second movie to compare with, look at the Top 4 (so dropped 'Thriller'):"
   ]
  },
  {
   "cell_type": "code",
   "execution_count": 37,
   "id": "7d292eec-dbdf-4e9f-b613-38beed20f304",
   "metadata": {
    "tags": []
   },
   "outputs": [
    {
     "data": {
      "text/html": [
       "<div>\n",
       "<style scoped>\n",
       "    .dataframe tbody tr th:only-of-type {\n",
       "        vertical-align: middle;\n",
       "    }\n",
       "\n",
       "    .dataframe tbody tr th {\n",
       "        vertical-align: top;\n",
       "    }\n",
       "\n",
       "    .dataframe thead th {\n",
       "        text-align: right;\n",
       "    }\n",
       "</style>\n",
       "<table border=\"1\" class=\"dataframe\">\n",
       "  <thead>\n",
       "    <tr style=\"text-align: right;\">\n",
       "      <th></th>\n",
       "      <th>title</th>\n",
       "      <th>genre_names</th>\n",
       "      <th>revenue</th>\n",
       "    </tr>\n",
       "  </thead>\n",
       "  <tbody>\n",
       "    <tr>\n",
       "      <th>103</th>\n",
       "      <td>The Sorcerer's Apprentice</td>\n",
       "      <td>[Fantasy, Adventure, Action, Comedy, Drama]</td>\n",
       "      <td>215283742</td>\n",
       "    </tr>\n",
       "    <tr>\n",
       "      <th>167</th>\n",
       "      <td>Sahara</td>\n",
       "      <td>[Action, Adventure, Comedy, Drama, Mystery]</td>\n",
       "      <td>119269486</td>\n",
       "    </tr>\n",
       "    <tr>\n",
       "      <th>2827</th>\n",
       "      <td>Crossroads</td>\n",
       "      <td>[Action, Adventure, Comedy, Drama, Family, Mus...</td>\n",
       "      <td>61141030</td>\n",
       "    </tr>\n",
       "    <tr>\n",
       "      <th>3352</th>\n",
       "      <td>Action Jackson</td>\n",
       "      <td>[Action, Adventure, Comedy, Crime, Drama]</td>\n",
       "      <td>20256975</td>\n",
       "    </tr>\n",
       "    <tr>\n",
       "      <th>2442</th>\n",
       "      <td>Southland Tales</td>\n",
       "      <td>[Action, Adventure, Comedy, Drama, Science Fic...</td>\n",
       "      <td>374743</td>\n",
       "    </tr>\n",
       "    <tr>\n",
       "      <th>1973</th>\n",
       "      <td>Double Take</td>\n",
       "      <td>[Adventure, Drama, Action, Comedy, Romance]</td>\n",
       "      <td>0</td>\n",
       "    </tr>\n",
       "    <tr>\n",
       "      <th>4004</th>\n",
       "      <td>Silver Medalist</td>\n",
       "      <td>[Action, Adventure, Comedy, Drama, Foreign]</td>\n",
       "      <td>0</td>\n",
       "    </tr>\n",
       "  </tbody>\n",
       "</table>\n",
       "</div>"
      ],
      "text/plain": [
       "                          title  \\\n",
       "103   The Sorcerer's Apprentice   \n",
       "167                      Sahara   \n",
       "2827                 Crossroads   \n",
       "3352             Action Jackson   \n",
       "2442            Southland Tales   \n",
       "1973                Double Take   \n",
       "4004            Silver Medalist   \n",
       "\n",
       "                                            genre_names    revenue  \n",
       "103         [Fantasy, Adventure, Action, Comedy, Drama]  215283742  \n",
       "167         [Action, Adventure, Comedy, Drama, Mystery]  119269486  \n",
       "2827  [Action, Adventure, Comedy, Drama, Family, Mus...   61141030  \n",
       "3352          [Action, Adventure, Comedy, Crime, Drama]   20256975  \n",
       "2442  [Action, Adventure, Comedy, Drama, Science Fic...     374743  \n",
       "1973        [Adventure, Drama, Action, Comedy, Romance]          0  \n",
       "4004        [Action, Adventure, Comedy, Drama, Foreign]          0  "
      ]
     },
     "execution_count": 37,
     "metadata": {},
     "output_type": "execute_result"
    }
   ],
   "source": [
    "genres_to_check=['Adventure','Action','Comedy','Drama']\n",
    "\n",
    "# Masking to find movies with all the above listed genres\n",
    "##.apply with lambda checks against the list above \n",
    "## then sorted the results by highest revenue first\n",
    "df[df['genre_names']\n",
    "   .apply(lambda x: all(item in x for item in genres_to_check))]\\\n",
    "[['title','genre_names','revenue']].sort_values(by = 'revenue' , ascending = False) "
   ]
  },
  {
   "cell_type": "markdown",
   "id": "783ed021-a385-461f-a337-fe4dc3afe17e",
   "metadata": {},
   "source": [
    "So will compare **SouthLand Tales** with **The Sorcerer's Apprentice** against the movies with the top revenue"
   ]
  },
  {
   "cell_type": "markdown",
   "id": "fdf77c64-1444-4ef2-8333-9101867ef20a",
   "metadata": {
    "jp-MarkdownHeadingCollapsed": true,
    "tags": []
   },
   "source": [
    "###### **The 0 Revenue?**"
   ]
  },
  {
   "cell_type": "code",
   "execution_count": 39,
   "id": "24644acb-2d79-4436-83a9-fec152f9c887",
   "metadata": {
    "tags": []
   },
   "outputs": [],
   "source": [
    "# Created copy of table with only title and revenue\n",
    "rev = df.sort_values(by = 'revenue')[['title', 'revenue']].copy()"
   ]
  },
  {
   "cell_type": "code",
   "execution_count": 40,
   "id": "762394a6-2df4-4022-b4a2-a3f34b08478f",
   "metadata": {
    "tags": []
   },
   "outputs": [
    {
     "data": {
      "text/plain": [
       "title      1427\n",
       "revenue    1427\n",
       "dtype: int64"
      ]
     },
     "execution_count": 40,
     "metadata": {},
     "output_type": "execute_result"
    }
   ],
   "source": [
    "# There were alot with just zero \n",
    "## This counts how many --- 1427\n",
    "rev[rev['revenue'] == 0].count()"
   ]
  },
  {
   "cell_type": "markdown",
   "id": "2d014441-daf6-42fc-8ba7-674cea7902cb",
   "metadata": {},
   "source": [
    "This means that the _'revenue'_ column contains nulls but in the form of 0's. $\\frac{1427}{4803} = 0.297...$ means roughly 30% of the revenue data is null. This will significantly impact any insights we want to gain related to the revenue.\n",
    "\n",
    "I decided to look at the lowest non-zero revenues:"
   ]
  },
  {
   "cell_type": "code",
   "execution_count": null,
   "id": "8e790e9f-5e41-4831-b233-c55a2e9ef1b2",
   "metadata": {
    "scrolled": true,
    "tags": []
   },
   "outputs": [],
   "source": [
    "# This looks at the first 20 non-zero \n",
    "rev[rev['revenue'] != 0].head(20)"
   ]
  },
  {
   "cell_type": "code",
   "execution_count": 43,
   "id": "5cdb8dff-8193-476d-aa66-6683b131d6c1",
   "metadata": {
    "scrolled": true,
    "tags": []
   },
   "outputs": [
    {
     "data": {
      "text/html": [
       "<div>\n",
       "<style scoped>\n",
       "    .dataframe tbody tr th:only-of-type {\n",
       "        vertical-align: middle;\n",
       "    }\n",
       "\n",
       "    .dataframe tbody tr th {\n",
       "        vertical-align: top;\n",
       "    }\n",
       "\n",
       "    .dataframe thead th {\n",
       "        text-align: right;\n",
       "    }\n",
       "</style>\n",
       "<table border=\"1\" class=\"dataframe\">\n",
       "  <thead>\n",
       "    <tr style=\"text-align: right;\">\n",
       "      <th></th>\n",
       "      <th>title</th>\n",
       "      <th>revenue</th>\n",
       "    </tr>\n",
       "  </thead>\n",
       "  <tbody>\n",
       "    <tr>\n",
       "      <th>3372</th>\n",
       "      <td>Split Second</td>\n",
       "      <td>5</td>\n",
       "    </tr>\n",
       "    <tr>\n",
       "      <th>3875</th>\n",
       "      <td>Dreaming of Joseph Lees</td>\n",
       "      <td>7</td>\n",
       "    </tr>\n",
       "    <tr>\n",
       "      <th>3419</th>\n",
       "      <td>Bran Nue Dae</td>\n",
       "      <td>7</td>\n",
       "    </tr>\n",
       "    <tr>\n",
       "      <th>3428</th>\n",
       "      <td>Bats</td>\n",
       "      <td>10</td>\n",
       "    </tr>\n",
       "    <tr>\n",
       "      <th>3131</th>\n",
       "      <td>Of Horses and Men</td>\n",
       "      <td>11</td>\n",
       "    </tr>\n",
       "    <tr>\n",
       "      <th>2933</th>\n",
       "      <td>F.I.S.T.</td>\n",
       "      <td>11</td>\n",
       "    </tr>\n",
       "    <tr>\n",
       "      <th>1655</th>\n",
       "      <td>Chasing Liberty</td>\n",
       "      <td>12</td>\n",
       "    </tr>\n",
       "    <tr>\n",
       "      <th>2485</th>\n",
       "      <td>The Cookout</td>\n",
       "      <td>12</td>\n",
       "    </tr>\n",
       "    <tr>\n",
       "      <th>1912</th>\n",
       "      <td>Angela's Ashes</td>\n",
       "      <td>13</td>\n",
       "    </tr>\n",
       "    <tr>\n",
       "      <th>1771</th>\n",
       "      <td>The 51st State</td>\n",
       "      <td>14</td>\n",
       "    </tr>\n",
       "    <tr>\n",
       "      <th>2806</th>\n",
       "      <td>Tae Guk Gi: The Brotherhood of War</td>\n",
       "      <td>15</td>\n",
       "    </tr>\n",
       "    <tr>\n",
       "      <th>4608</th>\n",
       "      <td>The Prophecy</td>\n",
       "      <td>16</td>\n",
       "    </tr>\n",
       "    <tr>\n",
       "      <th>2874</th>\n",
       "      <td>In the Cut</td>\n",
       "      <td>23</td>\n",
       "    </tr>\n",
       "    <tr>\n",
       "      <th>3611</th>\n",
       "      <td>A Farewell to Arms</td>\n",
       "      <td>25</td>\n",
       "    </tr>\n",
       "    <tr>\n",
       "      <th>3503</th>\n",
       "      <td>Lake of Fire</td>\n",
       "      <td>25</td>\n",
       "    </tr>\n",
       "    <tr>\n",
       "      <th>2068</th>\n",
       "      <td>Death at a Funeral</td>\n",
       "      <td>46</td>\n",
       "    </tr>\n",
       "    <tr>\n",
       "      <th>2848</th>\n",
       "      <td>My Baby's Daddy</td>\n",
       "      <td>51</td>\n",
       "    </tr>\n",
       "    <tr>\n",
       "      <th>3278</th>\n",
       "      <td>When Did You Last See Your Father?</td>\n",
       "      <td>92</td>\n",
       "    </tr>\n",
       "    <tr>\n",
       "      <th>1562</th>\n",
       "      <td>Rugrats in Paris: The Movie</td>\n",
       "      <td>103</td>\n",
       "    </tr>\n",
       "    <tr>\n",
       "      <th>3523</th>\n",
       "      <td>Khiladi 786</td>\n",
       "      <td>126</td>\n",
       "    </tr>\n",
       "    <tr>\n",
       "      <th>4641</th>\n",
       "      <td>I Married a Strange Person!</td>\n",
       "      <td>203</td>\n",
       "    </tr>\n",
       "    <tr>\n",
       "      <th>3541</th>\n",
       "      <td>Irreversible</td>\n",
       "      <td>792</td>\n",
       "    </tr>\n",
       "    <tr>\n",
       "      <th>4274</th>\n",
       "      <td>Eddie: The Sleepwalking Cannibal</td>\n",
       "      <td>1632</td>\n",
       "    </tr>\n",
       "    <tr>\n",
       "      <th>4065</th>\n",
       "      <td>Mi America</td>\n",
       "      <td>3330</td>\n",
       "    </tr>\n",
       "    <tr>\n",
       "      <th>1999</th>\n",
       "      <td>The Adventurer: The Curse of the Midas Box</td>\n",
       "      <td>6399</td>\n",
       "    </tr>\n",
       "    <tr>\n",
       "      <th>4399</th>\n",
       "      <td>Special</td>\n",
       "      <td>7202</td>\n",
       "    </tr>\n",
       "    <tr>\n",
       "      <th>3121</th>\n",
       "      <td>Janky Promoters</td>\n",
       "      <td>9069</td>\n",
       "    </tr>\n",
       "  </tbody>\n",
       "</table>\n",
       "</div>"
      ],
      "text/plain": [
       "                                           title  revenue\n",
       "3372                                Split Second        5\n",
       "3875                     Dreaming of Joseph Lees        7\n",
       "3419                                Bran Nue Dae        7\n",
       "3428                                        Bats       10\n",
       "3131                           Of Horses and Men       11\n",
       "2933                                    F.I.S.T.       11\n",
       "1655                             Chasing Liberty       12\n",
       "2485                                 The Cookout       12\n",
       "1912                              Angela's Ashes       13\n",
       "1771                              The 51st State       14\n",
       "2806          Tae Guk Gi: The Brotherhood of War       15\n",
       "4608                                The Prophecy       16\n",
       "2874                                  In the Cut       23\n",
       "3611                          A Farewell to Arms       25\n",
       "3503                                Lake of Fire       25\n",
       "2068                          Death at a Funeral       46\n",
       "2848                             My Baby's Daddy       51\n",
       "3278          When Did You Last See Your Father?       92\n",
       "1562                 Rugrats in Paris: The Movie      103\n",
       "3523                                 Khiladi 786      126\n",
       "4641                 I Married a Strange Person!      203\n",
       "3541                                Irreversible      792\n",
       "4274            Eddie: The Sleepwalking Cannibal     1632\n",
       "4065                                  Mi America     3330\n",
       "1999  The Adventurer: The Curse of the Midas Box     6399\n",
       "4399                                     Special     7202\n",
       "3121                             Janky Promoters     9069"
      ]
     },
     "execution_count": 43,
     "metadata": {},
     "output_type": "execute_result"
    }
   ],
   "source": [
    "#This looks at all the non-zero revenues bless than 10,000 \n",
    "## The same as above but with a few more rows\n",
    "rev[((rev['revenue']/10000) < 1) & (rev['revenue'] != 0)]"
   ]
  },
  {
   "cell_type": "markdown",
   "id": "411eb838-697d-48a4-b715-8d5a2cd31f6e",
   "metadata": {},
   "source": [
    "In the table above all the movies including and below _Eddie: The Sleepwalking Cannibal_ seem to be accurate, whilst the two movies above that -_Irreversible_ and _I Married a Strange Person_ - there revenue as written should be read as hundred of thousands, e.g. 203 is 203,000. And all the movies above and including _Khiladi 786_ should be read in the millions, e.g. 126 is 126,000,000."
   ]
  },
  {
   "cell_type": "markdown",
   "id": "56ed59fe-92a3-4bc9-bb7e-2371c99f8ca8",
   "metadata": {},
   "source": [
    "This means that the data has been recorded in an inconsitent manner. This will impact any distributions we want to see using this column, e.g. the total revenue, any averages, etc. I had a quick look at the budget column and it also seems to have the same issue. This will need to be addressed going forward, especially if want to use these for gathering any insights."
   ]
  },
  {
   "cell_type": "markdown",
   "id": "262ba5f2-3796-4556-8801-ea9070c52527",
   "metadata": {},
   "source": [
    "To work around this you could ignore all rows with less than 10,000 in revenue but more than 1 (so that we dont get rid of the 1427 null rows)."
   ]
  },
  {
   "cell_type": "markdown",
   "id": "c25d0903-d8f1-44f5-9f9e-cba7210497cb",
   "metadata": {},
   "source": [
    "####\n",
    "**How do these movies fare against those with the Highest Revenue**"
   ]
  },
  {
   "cell_type": "markdown",
   "id": "d395df06-66d0-42c0-b3bc-582fb77df169",
   "metadata": {
    "jp-MarkdownHeadingCollapsed": true,
    "tags": []
   },
   "source": [
    "###### The Code"
   ]
  },
  {
   "cell_type": "code",
   "execution_count": 47,
   "id": "3e8be553-c8e8-454d-a13f-ce2e51acb720",
   "metadata": {},
   "outputs": [
    {
     "data": {
      "text/html": [
       "<div>\n",
       "<style scoped>\n",
       "    .dataframe tbody tr th:only-of-type {\n",
       "        vertical-align: middle;\n",
       "    }\n",
       "\n",
       "    .dataframe tbody tr th {\n",
       "        vertical-align: top;\n",
       "    }\n",
       "\n",
       "    .dataframe thead th {\n",
       "        text-align: right;\n",
       "    }\n",
       "</style>\n",
       "<table border=\"1\" class=\"dataframe\">\n",
       "  <thead>\n",
       "    <tr style=\"text-align: right;\">\n",
       "      <th></th>\n",
       "      <th>title</th>\n",
       "      <th>revenue</th>\n",
       "      <th>genre_names</th>\n",
       "    </tr>\n",
       "  </thead>\n",
       "  <tbody>\n",
       "    <tr>\n",
       "      <th>0</th>\n",
       "      <td>Avatar</td>\n",
       "      <td>2787965087</td>\n",
       "      <td>[Action, Adventure, Fantasy, Science Fiction]</td>\n",
       "    </tr>\n",
       "    <tr>\n",
       "      <th>25</th>\n",
       "      <td>Titanic</td>\n",
       "      <td>1845034188</td>\n",
       "      <td>[Drama, Romance, Thriller]</td>\n",
       "    </tr>\n",
       "    <tr>\n",
       "      <th>16</th>\n",
       "      <td>The Avengers</td>\n",
       "      <td>1519557910</td>\n",
       "      <td>[Science Fiction, Action, Adventure]</td>\n",
       "    </tr>\n",
       "    <tr>\n",
       "      <th>28</th>\n",
       "      <td>Jurassic World</td>\n",
       "      <td>1513528810</td>\n",
       "      <td>[Action, Adventure, Science Fiction, Thriller]</td>\n",
       "    </tr>\n",
       "    <tr>\n",
       "      <th>44</th>\n",
       "      <td>Furious 7</td>\n",
       "      <td>1506249360</td>\n",
       "      <td>[Action]</td>\n",
       "    </tr>\n",
       "    <tr>\n",
       "      <th>7</th>\n",
       "      <td>Avengers: Age of Ultron</td>\n",
       "      <td>1405403694</td>\n",
       "      <td>[Action, Adventure, Science Fiction]</td>\n",
       "    </tr>\n",
       "    <tr>\n",
       "      <th>124</th>\n",
       "      <td>Frozen</td>\n",
       "      <td>1274219009</td>\n",
       "      <td>[Animation, Adventure, Family]</td>\n",
       "    </tr>\n",
       "    <tr>\n",
       "      <th>31</th>\n",
       "      <td>Iron Man 3</td>\n",
       "      <td>1215439994</td>\n",
       "      <td>[Action, Adventure, Science Fiction]</td>\n",
       "    </tr>\n",
       "    <tr>\n",
       "      <th>546</th>\n",
       "      <td>Minions</td>\n",
       "      <td>1156730962</td>\n",
       "      <td>[Family, Animation, Adventure, Comedy]</td>\n",
       "    </tr>\n",
       "    <tr>\n",
       "      <th>26</th>\n",
       "      <td>Captain America: Civil War</td>\n",
       "      <td>1153304495</td>\n",
       "      <td>[Adventure, Action, Science Fiction]</td>\n",
       "    </tr>\n",
       "    <tr>\n",
       "      <th>103</th>\n",
       "      <td>The Sorcerer's Apprentice</td>\n",
       "      <td>215283742</td>\n",
       "      <td>[Fantasy, Adventure, Action, Comedy, Drama]</td>\n",
       "    </tr>\n",
       "    <tr>\n",
       "      <th>2442</th>\n",
       "      <td>Southland Tales</td>\n",
       "      <td>374743</td>\n",
       "      <td>[Action, Adventure, Comedy, Drama, Science Fic...</td>\n",
       "    </tr>\n",
       "  </tbody>\n",
       "</table>\n",
       "</div>"
      ],
      "text/plain": [
       "                           title     revenue  \\\n",
       "0                         Avatar  2787965087   \n",
       "25                       Titanic  1845034188   \n",
       "16                  The Avengers  1519557910   \n",
       "28                Jurassic World  1513528810   \n",
       "44                     Furious 7  1506249360   \n",
       "7        Avengers: Age of Ultron  1405403694   \n",
       "124                       Frozen  1274219009   \n",
       "31                    Iron Man 3  1215439994   \n",
       "546                      Minions  1156730962   \n",
       "26    Captain America: Civil War  1153304495   \n",
       "103    The Sorcerer's Apprentice   215283742   \n",
       "2442             Southland Tales      374743   \n",
       "\n",
       "                                            genre_names  \n",
       "0         [Action, Adventure, Fantasy, Science Fiction]  \n",
       "25                           [Drama, Romance, Thriller]  \n",
       "16                 [Science Fiction, Action, Adventure]  \n",
       "28       [Action, Adventure, Science Fiction, Thriller]  \n",
       "44                                             [Action]  \n",
       "7                  [Action, Adventure, Science Fiction]  \n",
       "124                      [Animation, Adventure, Family]  \n",
       "31                 [Action, Adventure, Science Fiction]  \n",
       "546              [Family, Animation, Adventure, Comedy]  \n",
       "26                 [Adventure, Action, Science Fiction]  \n",
       "103         [Fantasy, Adventure, Action, Comedy, Drama]  \n",
       "2442  [Action, Adventure, Comedy, Drama, Science Fic...  "
      ]
     },
     "execution_count": 47,
     "metadata": {},
     "output_type": "execute_result"
    }
   ],
   "source": [
    "# Creating table with the top 10 movies by revenue\n",
    "top_10 = df.sort_values(by = 'revenue', ascending = False)[['title','revenue','genre_names']].head(10)\n",
    "\n",
    "# Creating table with my two chosen movies -- 'Southland Tales' and 'The Sorcerer's Apprentice'\n",
    "chosen_movies = df.iloc[[103,2442]][['title','revenue','genre_names']]\n",
    "\n",
    "# Joining the two\n",
    "my_movies = pd.concat([top_10, chosen_movies])\n",
    "my_movies"
   ]
  },
  {
   "cell_type": "code",
   "execution_count": null,
   "id": "d2705aff-8035-4d6b-8026-77eb17120f55",
   "metadata": {},
   "outputs": [],
   "source": []
  },
  {
   "cell_type": "markdown",
   "id": "4924ffa7-ec2c-4807-84fd-1c6461f4d88a",
   "metadata": {
    "jp-MarkdownHeadingCollapsed": true,
    "tags": []
   },
   "source": [
    "###### The Plot"
   ]
  },
  {
   "cell_type": "code",
   "execution_count": 103,
   "id": "6a46b1fb-b333-4100-82af-bc40235ef0b9",
   "metadata": {
    "tags": []
   },
   "outputs": [
    {
     "data": {
      "image/png": "[encoded data removed]",
      "text/plain": [
       "<Figure size 700x300 with 1 Axes>"
      ]
     },
     "metadata": {},
     "output_type": "display_data"
    }
   ],
   "source": [
    "# Setting the size of the output\n",
    "plt.figure(figsize = (7,3)) \n",
    "\n",
    "# Create bargraph\n",
    "sns.barplot( data = my_movies,\n",
    "             x = 'title',\n",
    "             y = 'revenue',\n",
    "             palette = 'autumn' # setting the colours\n",
    "           )\n",
    "\n",
    "# Adjusting the labels\n",
    "plt.xticks(rotation= 30, # rotating labels\n",
    "           horizontalalignment = 'right', # aligning them with the bars\n",
    "           verticalalignment='top',\n",
    "           fontweight = 'light' ,\n",
    "           fontsize = 'small' # setting the fonts\n",
    "          )\n",
    "\n",
    "# Adding/Changing axis labels\n",
    "plt.title('Top 10 Movies by Revenue vs Movies with the Best Performing Genres\\n')\n",
    "plt.xlabel('Movie')  ## did not work for some reason so I just renamed the column???\n",
    "plt.ylabel('Movie Revenue (Billions)')\n",
    "\n",
    "#trying to get rid of the weird label near the y-axis (le11 or x10**11) [ChatGPT]\n",
    "from matplotlib.ticker import ScalarFormatter\n",
    "plt.gca().yaxis.set_major_formatter(ScalarFormatter(useMathText=True, useOffset=False)) ## This converts the le11 to x10**11\n",
    "#plt.ticklabel_format(style='plain', axis='y') ## This one gets rid of it but the y-axis looks ugly now\n",
    "\n",
    "plt.show()"
   ]
  },
  {
   "cell_type": "markdown",
   "id": "ecc3e4ef-8e5f-41a4-b44d-19b8bacbb4af",
   "metadata": {},
   "source": [
    "> They made very little compared to the Top 10, even though they had a lot of the best performing genres"
   ]
  },
  {
   "cell_type": "markdown",
   "id": "50b79475-ed03-4978-a277-5140565fc906",
   "metadata": {},
   "source": [
    "_NOTE:_ All the Top 10 movies have a revenue in the billions and the issues we encountered with the inconsistent data inputting only went up till 100 millions. So changes to that column should not impact this graph."
   ]
  },
  {
   "cell_type": "markdown",
   "id": "cef02a08-1156-44d9-943c-76a3e8227a3c",
   "metadata": {},
   "source": [
    "####\n",
    "**Correlation between _'count of genres'_ and the _'revenue'_ a movie makes**"
   ]
  },
  {
   "cell_type": "markdown",
   "id": "fef90bd6-703c-4912-bcdd-80b1ac4d693a",
   "metadata": {},
   "source": [
    "Since the above plot shows that having being categorised with more of the best genres doesn't necessarily mean that the movie will do well, I thought looking at the correlation between the 'count of genres' and 'revenue' would be the next best step. And maybe also looking at how many of those counts are genres that we have deemed to be in the Top 5."
   ]
  },
  {
   "cell_type": "markdown",
   "id": "ef8039c2-aaad-409f-afc0-d84e0fc0744f",
   "metadata": {},
   "source": [
    "*Need to fix/work around the 'revenue' and 'budget' columns in order to get any proper insights from these two*"
   ]
  },
  {
   "cell_type": "markdown",
   "id": "26fdffef-f8e1-45ed-ad58-3e78c46d5359",
   "metadata": {
    "tags": []
   },
   "source": [
    "### **3** Summary"
   ]
  },
  {
   "cell_type": "markdown",
   "id": "20577369-a74c-495e-9801-39edd650701f",
   "metadata": {},
   "source": [
    "1) The more movies a genre has the more revenue it seems to make. Taking an average (total revenue / movie count) might be a better indicator of the more popular genres instead of just the total revenue.\n",
    "\n",
    "2) The Revenue and Budget columns have nulls in the form of zeros and also inconsistencies in the way the data has been recorded. This includes different rounding systems for the rows, writing most with its the zero (i.e units is just _dollars \\$_), writing some by not including the zeros (i.e. units is _millions/thousands of dollars \\$_)."
   ]
  }
 ],
 "metadata": {
  "kernelspec": {
   "display_name": "Python 3 (ipykernel)",
   "language": "python",
   "name": "python3"
  },
  "language_info": {
   "codemirror_mode": {
    "name": "ipython",
    "version": 3
   },
   "file_extension": ".py",
   "mimetype": "text/x-python",
   "name": "python",
   "nbconvert_exporter": "python",
   "pygments_lexer": "ipython3",
   "version": "3.11.7"
  }
 },
 "nbformat": 4,
 "nbformat_minor": 5
}
